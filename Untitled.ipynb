{
 "cells": [
  {
   "cell_type": "code",
   "execution_count": 2,
   "id": "53eb1a0c-be02-42d0-b817-4baaabda6f6a",
   "metadata": {},
   "outputs": [
    {
     "name": "stdout",
     "output_type": "stream",
     "text": [
      "Initial inventory: ('apple', 'banana', 'cherry', 'date', 'fig')\n",
      "First fruit: apple\n",
      "Last fruit: fig\n"
     ]
    },
    {
     "name": "stdin",
     "output_type": "stream",
     "text": [
      "Enter a new fruit to replace the second item:  grape\n"
     ]
    },
    {
     "name": "stdout",
     "output_type": "stream",
     "text": [
      "Updated inventory with new second fruit: ('apple', 'grape', 'cherry', 'date', 'fig')\n",
      "Inventory after adding two more fruits: ('apple', 'grape', 'cherry', 'date', 'fig', 'grape', 'kiwi')\n",
      "First half: ('apple', 'grape', 'cherry')\n",
      "Second half: ('date', 'fig', 'grape', 'kiwi')\n",
      "Final combined inventory: ('apple', 'grape', 'cherry', 'date', 'fig', 'apple', 'grape', 'cherry', 'date', 'fig', 'grape', 'kiwi')\n",
      "Length of final inventory: 12\n"
     ]
    }
   ],
   "source": [
    "def initialize_inventory():\n",
    "    # Start with 5 fruits in a tuple\n",
    "    inventory = ('apple', 'banana', 'cherry', 'date', 'fig')\n",
    "    print(\"Initial inventory:\", inventory)\n",
    "    print(\"First fruit:\", inventory[0])\n",
    "    print(\"Last fruit:\", inventory[-1])\n",
    "    return inventory\n",
    "\n",
    "def replace_second_fruit(inventory):\n",
    "    # Convert to list to modify the second element\n",
    "    temp_list = list(inventory)\n",
    "    new_fruit = input(\"Enter a new fruit to replace the second item: \")\n",
    "    temp_list[1] = new_fruit\n",
    "    # Convert back to tuple and print the updated inventory\n",
    "    inventory = tuple(temp_list)\n",
    "    print(\"Updated inventory with new second fruit:\", inventory)\n",
    "    return inventory\n",
    "\n",
    "def add_additional_fruits(inventory):\n",
    "    # Add two more fruits to the inventory\n",
    "    additional_fruits = ('grape', 'kiwi')\n",
    "    updated_inventory = inventory + additional_fruits\n",
    "    print(\"Inventory after adding two more fruits:\", updated_inventory)\n",
    "    return updated_inventory\n",
    "\n",
    "def split_inventory(updated_inventory):\n",
    "    # Split into two tuples of 3 elements each\n",
    "    first_half = updated_inventory[:3]\n",
    "    second_half = updated_inventory[3:]\n",
    "    print(\"First half:\", first_half)\n",
    "    print(\"Second half:\", second_half)\n",
    "    return first_half, second_half\n",
    "\n",
    "def combine_all_tuples(original, first_half, second_half):\n",
    "    # Combine all tuples into a final tuple\n",
    "    final_inventory = original + first_half + second_half\n",
    "    print(\"Final combined inventory:\", final_inventory)\n",
    "    print(\"Length of final inventory:\", len(final_inventory))\n",
    "    return final_inventory\n",
    "\n",
    "# Execute each function in sequence\n",
    "inventory = initialize_inventory()\n",
    "inventory = replace_second_fruit(inventory)\n",
    "updated_inventory = add_additional_fruits(inventory)\n",
    "first_half, second_half = split_inventory(updated_inventory)\n",
    "final_inventory = combine_all_tuples(inventory, first_half, second_half)"
   ]
  },
  {
   "cell_type": "code",
   "execution_count": null,
   "id": "2a342192-21d6-47b1-961d-40134540203b",
   "metadata": {},
   "outputs": [],
   "source": []
  }
 ],
 "metadata": {
  "kernelspec": {
   "display_name": "Python 3 (ipykernel)",
   "language": "python",
   "name": "python3"
  },
  "language_info": {
   "codemirror_mode": {
    "name": "ipython",
    "version": 3
   },
   "file_extension": ".py",
   "mimetype": "text/x-python",
   "name": "python",
   "nbconvert_exporter": "python",
   "pygments_lexer": "ipython3",
   "version": "3.12.4"
  }
 },
 "nbformat": 4,
 "nbformat_minor": 5
}
