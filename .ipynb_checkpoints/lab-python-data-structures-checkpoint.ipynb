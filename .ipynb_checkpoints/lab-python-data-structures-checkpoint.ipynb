{
 "cells": [
  {
   "cell_type": "markdown",
   "metadata": {},
   "source": [
    "# Lab | Data Structures "
   ]
  },
  {
   "cell_type": "markdown",
   "metadata": {},
   "source": [
    "## Exercise 1: Working with Lists"
   ]
  },
  {
   "cell_type": "markdown",
   "metadata": {},
   "source": [
    "Imagine you are building a program for a teacher who wants to track the progress of their students throughout the semester. The teacher wants to input the grades of each student one by one, and get a summary of their performance. There are in total 5 students. You are tasked with building the program that will allow the teacher to do this easily.\n",
    "\n",
    "The program will prompt the teacher to enter the grades of each student. Once the teacher has entered all the grades, the program will calculate the total sum of the grades and display it on the screen. Then, the program will create a new list by selecting only the grades of the first, third, and fifth students entered by the teacher, and sort them in ascending order.\n",
    "\n",
    "Finally, the program will print out the new list, along with its length and the number of occurrences of the score 5 in the list. This will give the teacher a good overview of the performance of the selected students, and help them identify any potential issues early on."
   ]
  },
  {
   "cell_type": "markdown",
   "metadata": {},
   "source": [
    "*Hint:*\n",
    "- You can use the input() function to ask the user to enter their information.\n",
    "- Look for list methods to perform the tasks. \n",
    "- Remember, it is possible to get a part of the sequence using:\n",
    "\n",
    "    ```python\n",
    "    sequence[x:y:z]\n",
    "    ```\n",
    "    where x, y, z are integers.\n",
    "\n",
    "    The above returns a new sequence with the following characteristics:\n",
    "\n",
    "    - A sequence with the same type as the original (a slice of a list is a list, a slice of a tuple is a tuple, and a slice of a string is a string).\n",
    "    - A sequence with elements from `sequence [x]` to `sequence [y-1]` (does not include a sequence [y]). By skipping `z` elements each time, it can be omitted if ` z = 1`.\n"
   ]
  },
  {
   "cell_type": "markdown",
   "metadata": {},
   "source": [
    "*Recommended External Resources:*\n",
    "- *[Python Lists](https://www.w3schools.com/python/python_lists.asp)*\n",
    "- *[Python List Methods](https://www.w3schools.com/python/python_ref_list.asp)*\n",
    "- *[Python Built-in Functions](https://docs.python.org/3/library/functions.html)*\n"
   ]
  },
  {
   "cell_type": "code",
   "execution_count": 25,
   "metadata": {},
   "outputs": [
    {
     "name": "stdin",
     "output_type": "stream",
     "text": [
      "Enter a student name:  t\n",
      "Enter a student name:  y\n",
      "Enter a student name:  u\n",
      "Enter a student name:  i\n",
      "Enter a student name:  o\n",
      "Enter the grade of t:  5\n",
      "Enter the grade of y:  5\n",
      "Enter the grade of u:  4\n",
      "Enter the grade of i:  2\n",
      "Enter the grade of o:  1\n"
     ]
    },
    {
     "name": "stdout",
     "output_type": "stream",
     "text": [
      "The total of all the grades are 17.\n",
      "[1, 4, 5]\n",
      "[3, 2]\n",
      "2\n"
     ]
    }
   ],
   "source": [
    "student_list = []\n",
    "student_grades = []\n",
    "\n",
    "def get_student_names(student_list): \n",
    "    for i in range(5):\n",
    "        name = input(\"Enter a student name: \")\n",
    "        student_list.append(name)\n",
    "    return student_list\n",
    "\n",
    "def get_student_grades(student_list, student_grades):\n",
    "    for name in student_list:\n",
    "        grade = int(input(f\"Enter the grade of {name}: \"))\n",
    "        student_grades.append(grade)\n",
    "    return student_grades\n",
    "        \n",
    "def calculate_grades(student_list, student_grades):\n",
    "    print(f\"The total of all the grades are {sum(student_grades)}.\")\n",
    "    new_list = sorted(student_grades[0:5:2])\n",
    "    print(new_list)\n",
    "    print([len(new_list),student_grades.count(5)])\n",
    "    print(student_grades.count(5))\n",
    "\n",
    "get_student_names(student_list) \n",
    "get_student_grades(student_list, student_grades)\n",
    "calculate_grades(student_list, student_grades)\n"
   ]
  },
  {
   "cell_type": "markdown",
   "metadata": {},
   "source": [
    "## Exercise 2: Tuples"
   ]
  },
  {
   "cell_type": "markdown",
   "metadata": {},
   "source": [
    "Imagine you're running a fruit stand and want to keep track of your inventory. Write a Python program that does the following:\n",
    "\n",
    "- Initializes a tuple with 5 different types of fruit.\n",
    "- Outputs the first and last elements of the tuple, so you can see the full range of fruits the store offers.\n",
    "- Replaces the second element of the tuple with a new fruit that the store has recently received, and prints the updated tuple so you can see the changes.\n",
    "- Concatenates a new tuple containing 2 additional fruits to the original tuple, so you can add them to the store inventory, and prints the resulting tuple to see the updated inventory.\n",
    "- Splits the resulting tuple into 2 tuples of 3 elements each (the first tuple contains the first 3 elements, and the second tuple contains the last 3 elements), so you can organize the inventory more effectively.\n",
    "- Combines the 2 tuples from the previous step with the original tuple into a new tuple, and prints the resulting tuple and its length, so you can see the final inventory after all the changes."
   ]
  },
  {
   "cell_type": "markdown",
   "metadata": {},
   "source": [
    "*Recommended External Resources: [Python Tuples Examples and Methods](https://www.w3schools.com/python/python_tuples.asp)*\n",
    "\n"
   ]
  },
  {
   "cell_type": "code",
   "execution_count": 72,
   "metadata": {},
   "outputs": [
    {
     "name": "stdin",
     "output_type": "stream",
     "text": [
      "Enter fruit # 1:  1\n",
      "Enter fruit # 2:  2\n",
      "Enter fruit # 3:  3\n",
      "Enter fruit # 4:  4\n",
      "Enter fruit # 5:  5\n"
     ]
    },
    {
     "name": "stdout",
     "output_type": "stream",
     "text": [
      "1 5\n"
     ]
    },
    {
     "name": "stdin",
     "output_type": "stream",
     "text": [
      "Enter the first new fruit:  6\n"
     ]
    },
    {
     "name": "stdout",
     "output_type": "stream",
     "text": [
      "('1', '6', '3', '4', '5')\n"
     ]
    },
    {
     "name": "stdin",
     "output_type": "stream",
     "text": [
      "Enter the second new fruit:  7\n"
     ]
    },
    {
     "name": "stdout",
     "output_type": "stream",
     "text": [
      "('1', '6', '3', '4', '5', '7')\n"
     ]
    },
    {
     "ename": "NameError",
     "evalue": "name 'tuple1' is not defined",
     "output_type": "error",
     "traceback": [
      "\u001b[0;31m---------------------------------------------------------------------------\u001b[0m",
      "\u001b[0;31mNameError\u001b[0m                                 Traceback (most recent call last)",
      "Cell \u001b[0;32mIn[72], line 34\u001b[0m\n\u001b[1;32m     32\u001b[0m add_new_fruits(inventory)\n\u001b[1;32m     33\u001b[0m updated_inventory \u001b[38;5;241m=\u001b[39m split_inventory(inventory, updated_inventory)\n\u001b[0;32m---> 34\u001b[0m \u001b[38;5;28mprint\u001b[39m(\u001b[38;5;124m\"\u001b[39m\u001b[38;5;124mTuple 1:\u001b[39m\u001b[38;5;124m\"\u001b[39m, tuple1)\n\u001b[1;32m     35\u001b[0m \u001b[38;5;28mprint\u001b[39m(\u001b[38;5;124m\"\u001b[39m\u001b[38;5;124mTuple 2:\u001b[39m\u001b[38;5;124m\"\u001b[39m, tuple2)\n\u001b[1;32m     36\u001b[0m \u001b[38;5;28mprint\u001b[39m(\u001b[38;5;28mlen\u001b[39m(updated_inventory), inventory)\n",
      "\u001b[0;31mNameError\u001b[0m: name 'tuple1' is not defined"
     ]
    }
   ],
   "source": [
    "inventory = []\n",
    "new_fruits = ()\n",
    "updated_inventory = ()\n",
    "\n",
    "def add_inventory(inventory):\n",
    "    for i in range(5):\n",
    "        fruit = input(f\"Enter fruit # {i+1}: \")\n",
    "        inventory.append(fruit)\n",
    "    inventory = tuple(inventory)\n",
    "    print(inventory[0], inventory[-1]) \n",
    "    return tuple(inventory)\n",
    "\n",
    "def add_new_fruits(inventory):\n",
    "    temp_list = inventory\n",
    "    first_new_fruit = input(\"Enter the first new fruit: \")\n",
    "    temp_list[1] = first_new_fruit\n",
    "    inventory = tuple(temp_list)\n",
    "    print(inventory)\n",
    "    inventory = list(inventory)\n",
    "    second_new_fruit = input(\"Enter the second new fruit: \")\n",
    "    inventory.append(second_new_fruit)\n",
    "    print(tuple(inventory))\n",
    "    return tuple(inventory)\n",
    "    \n",
    "def split_inventory(inventory, updated_inventory):\n",
    "    tuple1 = inventory[:3]\n",
    "    tuple2 = inventory[3:]\n",
    "    updated_inventory = tuple1 + tuple2\n",
    "    return updated_inventory\n",
    "\n",
    "add_inventory(inventory)\n",
    "add_new_fruits(inventory)\n",
    "updated_inventory = split_inventory(inventory, updated_inventory)\n",
    "print(len(updated_inventory), inventory)\n",
    "\n",
    "\n",
    "    "
   ]
  },
  {
   "cell_type": "markdown",
   "metadata": {},
   "source": [
    "## Exercise 3: Sets"
   ]
  },
  {
   "cell_type": "markdown",
   "metadata": {},
   "source": [
    "Imagine you are a data analyst working for a literature museum. Your manager has given you two poems to analyze, and she wants you to write a Python program to extract useful information from them.\n",
    "\n",
    "Your program should:\n",
    "\n",
    "- Create two sets, one for each poem, containing all unique words in both poems (ignoring case and punctuation).\n",
    "- Print the number of unique words in each set.\n",
    "- Identify and print the unique words present in the first poem but not in the second one.\n",
    "- Identify and print the unique words present in the second poem but not in the first one.\n",
    "- Identify and print the unique words present in both poems and print it in alphabetical order."
   ]
  },
  {
   "cell_type": "markdown",
   "metadata": {},
   "source": [
    "*Recommended External Resources:*\n",
    "- *[Python Sets](https://www.w3schools.com/python/python_sets.asp)* \n",
    "- *[Python Set Methods](https://www.w3schools.com/python/python_ref_set.asp)*\n",
    "- *[Python String Methods](https://www.w3schools.com/python/python_ref_string.asp)*\n"
   ]
  },
  {
   "cell_type": "code",
   "execution_count": 78,
   "metadata": {},
   "outputs": [],
   "source": [
    "poem = \"\"\"Some say the world will end in fire,\n",
    "Some say in ice.\n",
    "From what I’ve tasted of desire\n",
    "I hold with those who favor fire.\n",
    "But if it had to perish twice,\n",
    "I think I know enough of hate\n",
    "To say that for destruction ice\n",
    "Is also great\n",
    "And would suffice.\"\"\"\n",
    "\n",
    "new_poem = \"\"\"Some say life is but a dream,\n",
    "Some say it's a test.\n",
    "From what I've seen and what I deem,\n",
    "I side with those who see it as a quest.\n",
    "\n",
    "But if it had to end today,\n",
    "I think I know enough of love,\n",
    "To say that though it fades away,\n",
    "It's still what we are made of.\"\"\""
   ]
  },
  {
   "cell_type": "code",
   "execution_count": 94,
   "metadata": {},
   "outputs": [
    {
     "name": "stdout",
     "output_type": "stream",
     "text": [
      "{'from', 'it', 'think', 'and', 'also', 'tasted', 'in', 'destruction', 'say', 'fire,', 'for', 'would', 'to', 'had', 'hate', 'with', 'hold', 'ice', 'end', 'great', 'the', 'who', 'but', 'what', 'is', 'that', 'those', 'enough', 'world', 'will', 'desire', 'favor', 'fire.', 'ice.', 'know', 'of', 'twice,', 'suffice.', 'if', 'i', 'perish', 'i’ve', 'some'}\n",
      "{'today,', 'a', 'dream,', \"i've\", 'from', 'it', 'think', 'we', 'as', 'and', 'quest.', 'made', 'are', 'seen', 'test.', 'side', 'still', 'say', 'though', 'to', 'had', 'of.', \"it's\", 'with', 'love,', 'end', 'who', 'but', 'is', 'what', 'that', 'those', 'enough', 'see', 'life', 'away,', 'know', 'of', 'deem,', 'fades', 'if', 'i', 'some'}\n",
      "43\n",
      "43\n",
      "{'also', 'tasted', 'in', 'destruction', 'fire,', 'would', 'hate', 'ice', 'hold', 'great', 'the', 'world', 'fire.', 'will', 'favor', 'desire', 'ice.', 'twice,', 'suffice.', 'perish', 'for', 'i’ve'}\n",
      "{'today,', 'a', 'dream,', \"i've\", 'we', 'as', 'quest.', 'made', 'are', 'seen', 'test.', 'side', 'still', 'though', 'of.', \"it's\", 'love,', 'see', 'life', 'away,', 'deem,', 'fades'}\n",
      "['a', 'also', 'and', 'are', 'as', 'away,', 'but', 'deem,', 'desire', 'destruction', 'dream,', 'end', 'enough', 'fades', 'favor', 'fire,', 'fire.', 'for', 'from', 'great', 'had', 'hate', 'hold', 'i', \"i've\", 'ice', 'ice.', 'if', 'in', 'is', 'it', \"it's\", 'i’ve', 'know', 'life', 'love,', 'made', 'of', 'of.', 'perish', 'quest.', 'say', 'see', 'seen', 'side', 'some', 'still', 'suffice.', 'tasted', 'test.', 'that', 'the', 'think', 'those', 'though', 'to', 'today,', 'twice,', 'we', 'what', 'who', 'will', 'with', 'world', 'would']\n"
     ]
    }
   ],
   "source": [
    "def unique_words(poem, new_poem):\n",
    "    unique_words_poem = set(poem.lower().split())\n",
    "    unique_words_new_poem = set(new_poem.lower().split())\n",
    "    print(unique_words_poem)\n",
    "    print(unique_words_new_poem)\n",
    "    print(len(unique_words_poem))\n",
    "    print(len(unique_words_new_poem))\n",
    "    print(unique_words_poem.difference(unique_words_new_poem))\n",
    "    print(unique_words_new_poem.difference(unique_words_poem))\n",
    "    print(sorted(unique_words_poem.union(unique_words_new_poem)))\n",
    "\n",
    "unique_words(poem,new_poem)\n",
    "\n",
    "\n",
    "\n"
   ]
  },
  {
   "cell_type": "markdown",
   "metadata": {},
   "source": [
    "## Exercise 4: Dictionaries"
   ]
  },
  {
   "cell_type": "markdown",
   "metadata": {},
   "source": [
    "Consider the following dictionary of students with their scores in different subjects. One of the students, Bob, has complained about his score in Philosophy and, after reviewing it, the teacher has decided to update his score to 100. Write a Python program that updates Bob's score in Philosophy to 100 in the dictionary."
   ]
  },
  {
   "cell_type": "markdown",
   "metadata": {},
   "source": [
    "*Recommended External Resources: [Python Dictionary Examples and Methods](https://www.w3schools.com/python/python_dictionaries.asp)*\n"
   ]
  },
  {
   "cell_type": "code",
   "execution_count": 100,
   "metadata": {},
   "outputs": [],
   "source": [
    "grades = {'Alice': {'Physics': 75, 'Math': 85, 'Chemistry': 60, 'Philosophy': 90}, 'Bob': {'Physics': 75, 'Math': 85, 'Chemistry': 60, 'Philosophy': 90}}"
   ]
  },
  {
   "cell_type": "code",
   "execution_count": 102,
   "metadata": {},
   "outputs": [
    {
     "name": "stdout",
     "output_type": "stream",
     "text": [
      "{'Alice': {'Physics': 75, 'Math': 85, 'Chemistry': 60, 'Philosophy': 90}, 'Bob': {'Physics': 75, 'Math': 85, 'Chemistry': 60, 'Philosophy': 100}}\n"
     ]
    }
   ],
   "source": [
    "grades[\"Bob\"][\"Philosophy\"] = 100\n",
    "print(grades)"
   ]
  },
  {
   "cell_type": "markdown",
   "metadata": {},
   "source": [
    "## Bonus"
   ]
  },
  {
   "cell_type": "markdown",
   "metadata": {},
   "source": [
    "1. Below are the two lists. Write a Python program to convert them into a dictionary in a way that item from list1 is the key and item from list2 is the value."
   ]
  },
  {
   "cell_type": "markdown",
   "metadata": {},
   "source": [
    "*Hint: Use the zip() function. This function takes two or more iterables (like list, dict, string), aggregates them in a tuple, and returns it. Afterwards, you can use a function that turns a tuple into a dictionary.*"
   ]
  },
  {
   "cell_type": "markdown",
   "metadata": {},
   "source": [
    "*Recommended External Resources: [Python Zip Function](https://www.w3schools.com/python/ref_func_zip.asp)*\n"
   ]
  },
  {
   "cell_type": "code",
   "execution_count": 116,
   "metadata": {},
   "outputs": [
    {
     "name": "stdout",
     "output_type": "stream",
     "text": [
      "{'Physics': 75, 'Math': 85, 'Chemistry': 60, 'Philosophy': 90}\n",
      "Chemistry\n"
     ]
    }
   ],
   "source": [
    "keys = ['Physics', 'Math', 'Chemistry', 'Philosophy']\n",
    "values = [75, 85, 60,90]\n",
    "\n",
    "zipped = zip(keys, values)\n",
    "zipped = dict(zipped)\n",
    "\n",
    "print(zipped)\n",
    "lowest_score = min(zipped, key=zipped.get)\n",
    "print(lowest_score)"
   ]
  },
  {
   "cell_type": "markdown",
   "metadata": {},
   "source": [
    "2. Get the subject with the minimum score from the previous dictionary."
   ]
  },
  {
   "cell_type": "markdown",
   "metadata": {},
   "source": [
    "*Hint: Use the built-in function min(). Read about the parameter key.*"
   ]
  },
  {
   "cell_type": "markdown",
   "metadata": {},
   "source": [
    "\n",
    "*Recommended External Resources:*\n",
    "- *[Python Min Function Official Documentation](https://docs.python.org/3.8/library/functions.html#min)*\n",
    "- *[How to use key function in max and min in Python](https://medium.com/analytics-vidhya/how-to-use-key-function-in-max-and-min-in-python-1fdbd661c59c)*"
   ]
  },
  {
   "cell_type": "code",
   "execution_count": null,
   "metadata": {},
   "outputs": [],
   "source": [
    "# Your code here"
   ]
  }
 ],
 "metadata": {
  "kernelspec": {
   "display_name": "Python 3 (ipykernel)",
   "language": "python",
   "name": "python3"
  },
  "language_info": {
   "codemirror_mode": {
    "name": "ipython",
    "version": 3
   },
   "file_extension": ".py",
   "mimetype": "text/x-python",
   "name": "python",
   "nbconvert_exporter": "python",
   "pygments_lexer": "ipython3",
   "version": "3.12.4"
  }
 },
 "nbformat": 4,
 "nbformat_minor": 4
}
